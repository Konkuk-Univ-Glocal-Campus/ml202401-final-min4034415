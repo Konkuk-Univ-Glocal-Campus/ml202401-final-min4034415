{
 "cells": [
  {
   "cell_type": "markdown",
   "id": "03136e95-3a52-4ff7-9907-83f13f5eb94c",
   "metadata": {},
   "source": [
    "<h1><center>201821002 이의민 기말고사 대체 과제</center></h1>"
   ]
  },
  {
   "cell_type": "markdown",
   "id": "de35a7da-2384-4229-a200-b3dec6cb304d",
   "metadata": {},
   "source": [
    "## 데이터 전처리"
   ]
  },
  {
   "cell_type": "code",
   "execution_count": 1,
   "id": "5536d1b8-4973-4caa-b6ff-350486536549",
   "metadata": {},
   "outputs": [],
   "source": [
    "import pandas as pd\n",
    "df = pd.read_csv('wine_review.csv')"
   ]
  },
  {
   "cell_type": "code",
   "execution_count": 2,
   "id": "f497a37f-d1c4-4a12-8e6b-e5ff71ebb00d",
   "metadata": {},
   "outputs": [
    {
     "data": {
      "text/html": [
       "<div>\n",
       "<style scoped>\n",
       "    .dataframe tbody tr th:only-of-type {\n",
       "        vertical-align: middle;\n",
       "    }\n",
       "\n",
       "    .dataframe tbody tr th {\n",
       "        vertical-align: top;\n",
       "    }\n",
       "\n",
       "    .dataframe thead th {\n",
       "        text-align: right;\n",
       "    }\n",
       "</style>\n",
       "<table border=\"1\" class=\"dataframe\">\n",
       "  <thead>\n",
       "    <tr style=\"text-align: right;\">\n",
       "      <th></th>\n",
       "      <th>id</th>\n",
       "      <th>asins</th>\n",
       "      <th>brand</th>\n",
       "      <th>categories</th>\n",
       "      <th>dateAdded</th>\n",
       "      <th>dateUpdated</th>\n",
       "      <th>descriptions</th>\n",
       "      <th>dimension</th>\n",
       "      <th>ean</th>\n",
       "      <th>flavors</th>\n",
       "      <th>...</th>\n",
       "      <th>reviews.sourceURLs</th>\n",
       "      <th>reviews.text</th>\n",
       "      <th>reviews.title</th>\n",
       "      <th>reviews.userCity</th>\n",
       "      <th>reviews.userProvince</th>\n",
       "      <th>reviews.username</th>\n",
       "      <th>sizes</th>\n",
       "      <th>sourceURLs</th>\n",
       "      <th>upc</th>\n",
       "      <th>weight</th>\n",
       "    </tr>\n",
       "  </thead>\n",
       "  <tbody>\n",
       "    <tr>\n",
       "      <th>0</th>\n",
       "      <td>AV13ClKCGV-KLJ3akN68</td>\n",
       "      <td>NaN</td>\n",
       "      <td>Gallo</td>\n",
       "      <td>Food &amp; Beverage,Beverages,Wine, Beer &amp; Liquor,...</td>\n",
       "      <td>2017-07-24T23:59:11Z</td>\n",
       "      <td>2018-01-10T18:06:28Z</td>\n",
       "      <td>NaN</td>\n",
       "      <td>1.0 in x 1.0 in x 1.0 in</td>\n",
       "      <td>NaN</td>\n",
       "      <td>NaN</td>\n",
       "      <td>...</td>\n",
       "      <td>https://redsky.target.com/groot-domain-api/v1/...</td>\n",
       "      <td>This a fantastic white wine for any occasion!</td>\n",
       "      <td>My Favorite White Wine</td>\n",
       "      <td>NaN</td>\n",
       "      <td>NaN</td>\n",
       "      <td>Bjh</td>\n",
       "      <td>NaN</td>\n",
       "      <td>http://redsky.target.com/v1/plp/search?kwr=y&amp;c...</td>\n",
       "      <td>4.9213E+11</td>\n",
       "      <td>1.0 lbs</td>\n",
       "    </tr>\n",
       "    <tr>\n",
       "      <th>1</th>\n",
       "      <td>AV13CsvW-jtxr-f38AQO</td>\n",
       "      <td>NaN</td>\n",
       "      <td>Fresh Craft Co.</td>\n",
       "      <td>Food &amp; Beverage,Beverages,Wine, Beer &amp; Liquor,...</td>\n",
       "      <td>2017-07-24T23:59:42Z</td>\n",
       "      <td>2018-01-10T05:38:33Z</td>\n",
       "      <td>[{\"dateSeen\":[\"2017-12-21T05:43:00.000Z\",\"2017...</td>\n",
       "      <td>4.25 in x 4.25 in x 5.25 in</td>\n",
       "      <td>NaN</td>\n",
       "      <td>NaN</td>\n",
       "      <td>...</td>\n",
       "      <td>https://redsky.target.com/groot-domain-api/v1/...</td>\n",
       "      <td>Tart, not sweet...very refreshing and delicious!</td>\n",
       "      <td>Yum!!</td>\n",
       "      <td>NaN</td>\n",
       "      <td>NaN</td>\n",
       "      <td>Wino</td>\n",
       "      <td>NaN</td>\n",
       "      <td>http://redsky.target.com/v1/plp/search?kwr=y&amp;c...</td>\n",
       "      <td>83120003441</td>\n",
       "      <td>2.45 lbs</td>\n",
       "    </tr>\n",
       "    <tr>\n",
       "      <th>2</th>\n",
       "      <td>AV13CVI_glJLPUi8O7Po</td>\n",
       "      <td>NaN</td>\n",
       "      <td>1000 Stories</td>\n",
       "      <td>Food &amp; Beverage,Beverages,Wine, Beer &amp; Liquor,...</td>\n",
       "      <td>2017-07-24T23:58:05Z</td>\n",
       "      <td>2018-01-10T05:38:31Z</td>\n",
       "      <td>NaN</td>\n",
       "      <td>3.3 in x 3.3 in x 11.79 in</td>\n",
       "      <td>NaN</td>\n",
       "      <td>NaN</td>\n",
       "      <td>...</td>\n",
       "      <td>https://redsky.target.com/groot-domain-api/v1/...</td>\n",
       "      <td>I was given this wine so it was a delightful s...</td>\n",
       "      <td>A New Favorite!</td>\n",
       "      <td>NaN</td>\n",
       "      <td>NaN</td>\n",
       "      <td>Bama Mom</td>\n",
       "      <td>NaN</td>\n",
       "      <td>http://redsky.target.com/v1/plp/search?kwr=y&amp;c...</td>\n",
       "      <td>82896001453</td>\n",
       "      <td>3.09 lbs</td>\n",
       "    </tr>\n",
       "    <tr>\n",
       "      <th>3</th>\n",
       "      <td>AV13CVI_glJLPUi8O7Po</td>\n",
       "      <td>NaN</td>\n",
       "      <td>1000 Stories</td>\n",
       "      <td>Food &amp; Beverage,Beverages,Wine, Beer &amp; Liquor,...</td>\n",
       "      <td>2017-07-24T23:58:05Z</td>\n",
       "      <td>2018-01-10T05:38:31Z</td>\n",
       "      <td>NaN</td>\n",
       "      <td>3.3 in x 3.3 in x 11.79 in</td>\n",
       "      <td>NaN</td>\n",
       "      <td>NaN</td>\n",
       "      <td>...</td>\n",
       "      <td>https://redsky.target.com/groot-domain-api/v1/...</td>\n",
       "      <td>This is a phenomenal wine and my new favorite ...</td>\n",
       "      <td>Bold, Flavorful, Aromatic, Delicious</td>\n",
       "      <td>NaN</td>\n",
       "      <td>NaN</td>\n",
       "      <td>Av Dub</td>\n",
       "      <td>NaN</td>\n",
       "      <td>http://redsky.target.com/v1/plp/search?kwr=y&amp;c...</td>\n",
       "      <td>82896001453</td>\n",
       "      <td>3.09 lbs</td>\n",
       "    </tr>\n",
       "    <tr>\n",
       "      <th>4</th>\n",
       "      <td>AV13CYL4-jtxr-f37_-t</td>\n",
       "      <td>NaN</td>\n",
       "      <td>Wine Cube153</td>\n",
       "      <td>Food &amp; Beverage,Beverages,Wine, Beer &amp; Liquor,...</td>\n",
       "      <td>2017-07-24T23:58:18Z</td>\n",
       "      <td>2018-01-10T18:06:29Z</td>\n",
       "      <td>[{\"dateSeen\":[\"2017-12-21T05:43:00.000Z\",\"2017...</td>\n",
       "      <td>1.0 in x 1.0 in x 1.0 in</td>\n",
       "      <td>NaN</td>\n",
       "      <td>NaN</td>\n",
       "      <td>...</td>\n",
       "      <td>https://redsky.target.com/groot-domain-api/v1/...</td>\n",
       "      <td>4 750ml bottles for the price of two With way ...</td>\n",
       "      <td>Yum! Plus, Environmentally Friendly!</td>\n",
       "      <td>Overland Park</td>\n",
       "      <td>NaN</td>\n",
       "      <td>Chelseamay</td>\n",
       "      <td>NaN</td>\n",
       "      <td>https://redsky.target.com/groot-domain-api/v1/...</td>\n",
       "      <td>85200600465</td>\n",
       "      <td>1.0 lbs</td>\n",
       "    </tr>\n",
       "  </tbody>\n",
       "</table>\n",
       "<p>5 rows × 32 columns</p>\n",
       "</div>"
      ],
      "text/plain": [
       "                     id asins            brand  \\\n",
       "0  AV13ClKCGV-KLJ3akN68   NaN            Gallo   \n",
       "1  AV13CsvW-jtxr-f38AQO   NaN  Fresh Craft Co.   \n",
       "2  AV13CVI_glJLPUi8O7Po   NaN     1000 Stories   \n",
       "3  AV13CVI_glJLPUi8O7Po   NaN     1000 Stories   \n",
       "4  AV13CYL4-jtxr-f37_-t   NaN     Wine Cube153   \n",
       "\n",
       "                                          categories             dateAdded  \\\n",
       "0  Food & Beverage,Beverages,Wine, Beer & Liquor,...  2017-07-24T23:59:11Z   \n",
       "1  Food & Beverage,Beverages,Wine, Beer & Liquor,...  2017-07-24T23:59:42Z   \n",
       "2  Food & Beverage,Beverages,Wine, Beer & Liquor,...  2017-07-24T23:58:05Z   \n",
       "3  Food & Beverage,Beverages,Wine, Beer & Liquor,...  2017-07-24T23:58:05Z   \n",
       "4  Food & Beverage,Beverages,Wine, Beer & Liquor,...  2017-07-24T23:58:18Z   \n",
       "\n",
       "            dateUpdated                                       descriptions  \\\n",
       "0  2018-01-10T18:06:28Z                                                NaN   \n",
       "1  2018-01-10T05:38:33Z  [{\"dateSeen\":[\"2017-12-21T05:43:00.000Z\",\"2017...   \n",
       "2  2018-01-10T05:38:31Z                                                NaN   \n",
       "3  2018-01-10T05:38:31Z                                                NaN   \n",
       "4  2018-01-10T18:06:29Z  [{\"dateSeen\":[\"2017-12-21T05:43:00.000Z\",\"2017...   \n",
       "\n",
       "                     dimension  ean flavors  ...  \\\n",
       "0     1.0 in x 1.0 in x 1.0 in  NaN     NaN  ...   \n",
       "1  4.25 in x 4.25 in x 5.25 in  NaN     NaN  ...   \n",
       "2   3.3 in x 3.3 in x 11.79 in  NaN     NaN  ...   \n",
       "3   3.3 in x 3.3 in x 11.79 in  NaN     NaN  ...   \n",
       "4     1.0 in x 1.0 in x 1.0 in  NaN     NaN  ...   \n",
       "\n",
       "                                  reviews.sourceURLs  \\\n",
       "0  https://redsky.target.com/groot-domain-api/v1/...   \n",
       "1  https://redsky.target.com/groot-domain-api/v1/...   \n",
       "2  https://redsky.target.com/groot-domain-api/v1/...   \n",
       "3  https://redsky.target.com/groot-domain-api/v1/...   \n",
       "4  https://redsky.target.com/groot-domain-api/v1/...   \n",
       "\n",
       "                                        reviews.text  \\\n",
       "0      This a fantastic white wine for any occasion!   \n",
       "1   Tart, not sweet...very refreshing and delicious!   \n",
       "2  I was given this wine so it was a delightful s...   \n",
       "3  This is a phenomenal wine and my new favorite ...   \n",
       "4  4 750ml bottles for the price of two With way ...   \n",
       "\n",
       "                          reviews.title reviews.userCity reviews.userProvince  \\\n",
       "0                My Favorite White Wine              NaN                  NaN   \n",
       "1                                 Yum!!              NaN                  NaN   \n",
       "2                       A New Favorite!              NaN                  NaN   \n",
       "3  Bold, Flavorful, Aromatic, Delicious              NaN                  NaN   \n",
       "4  Yum! Plus, Environmentally Friendly!    Overland Park                  NaN   \n",
       "\n",
       "  reviews.username sizes                                         sourceURLs  \\\n",
       "0              Bjh   NaN  http://redsky.target.com/v1/plp/search?kwr=y&c...   \n",
       "1             Wino   NaN  http://redsky.target.com/v1/plp/search?kwr=y&c...   \n",
       "2         Bama Mom   NaN  http://redsky.target.com/v1/plp/search?kwr=y&c...   \n",
       "3           Av Dub   NaN  http://redsky.target.com/v1/plp/search?kwr=y&c...   \n",
       "4       Chelseamay   NaN  https://redsky.target.com/groot-domain-api/v1/...   \n",
       "\n",
       "           upc    weight  \n",
       "0   4.9213E+11   1.0 lbs  \n",
       "1  83120003441  2.45 lbs  \n",
       "2  82896001453  3.09 lbs  \n",
       "3  82896001453  3.09 lbs  \n",
       "4  85200600465   1.0 lbs  \n",
       "\n",
       "[5 rows x 32 columns]"
      ]
     },
     "execution_count": 2,
     "metadata": {},
     "output_type": "execute_result"
    }
   ],
   "source": [
    "df.head()"
   ]
  },
  {
   "cell_type": "code",
   "execution_count": 3,
   "id": "6855d9d4-2f04-4996-a090-fb219eaafc7d",
   "metadata": {},
   "outputs": [
    {
     "data": {
      "text/plain": [
       "Index(['id', 'asins', 'brand', 'categories', 'dateAdded', 'dateUpdated',\n",
       "       'descriptions', 'dimension', 'ean', 'flavors', 'keys', 'manufacturer',\n",
       "       'manufacturerNumber', 'name', 'reviews.date', 'reviews.dateAdded',\n",
       "       'reviews.dateSeen', 'reviews.didPurchase', 'reviews.doRecommend',\n",
       "       'reviews.id', 'reviews.numHelpful', 'reviews.rating',\n",
       "       'reviews.sourceURLs', 'reviews.text', 'reviews.title',\n",
       "       'reviews.userCity', 'reviews.userProvince', 'reviews.username', 'sizes',\n",
       "       'sourceURLs', 'upc', 'weight'],\n",
       "      dtype='object')"
      ]
     },
     "execution_count": 3,
     "metadata": {},
     "output_type": "execute_result"
    }
   ],
   "source": [
    "df.columns"
   ]
  },
  {
   "cell_type": "markdown",
   "id": "10169ff4-cae7-490c-9d61-af8ffcacf260",
   "metadata": {},
   "source": [
    "## 데이터 정리 (노이즈 제거, 결측값 처리 등) "
   ]
  },
  {
   "cell_type": "code",
   "execution_count": 4,
   "id": "50d60e97-dbd7-4d04-a7f6-1650fc44c7d1",
   "metadata": {},
   "outputs": [],
   "source": [
    "# 필요한 칼럼만을 남김\n",
    "df = df[['brand', 'name', 'reviews.rating', 'reviews.text', 'reviews.title']].dropna()"
   ]
  },
  {
   "cell_type": "code",
   "execution_count": 5,
   "id": "66b08c13-6241-4f2d-8703-0f786f4d7ec4",
   "metadata": {
    "scrolled": true
   },
   "outputs": [
    {
     "data": {
      "text/html": [
       "<div>\n",
       "<style scoped>\n",
       "    .dataframe tbody tr th:only-of-type {\n",
       "        vertical-align: middle;\n",
       "    }\n",
       "\n",
       "    .dataframe tbody tr th {\n",
       "        vertical-align: top;\n",
       "    }\n",
       "\n",
       "    .dataframe thead th {\n",
       "        text-align: right;\n",
       "    }\n",
       "</style>\n",
       "<table border=\"1\" class=\"dataframe\">\n",
       "  <thead>\n",
       "    <tr style=\"text-align: right;\">\n",
       "      <th></th>\n",
       "      <th>brand</th>\n",
       "      <th>name</th>\n",
       "      <th>reviews.rating</th>\n",
       "      <th>reviews.text</th>\n",
       "      <th>reviews.title</th>\n",
       "    </tr>\n",
       "  </thead>\n",
       "  <tbody>\n",
       "    <tr>\n",
       "      <th>0</th>\n",
       "      <td>Gallo</td>\n",
       "      <td>Ecco Domani174 Pinot Grigio - 750ml Bottle</td>\n",
       "      <td>5.0</td>\n",
       "      <td>This a fantastic white wine for any occasion!</td>\n",
       "      <td>My Favorite White Wine</td>\n",
       "    </tr>\n",
       "    <tr>\n",
       "      <th>1</th>\n",
       "      <td>Fresh Craft Co.</td>\n",
       "      <td>Fresh Craft174 Mango Citrus - 4pk / 250ml Bottle</td>\n",
       "      <td>5.0</td>\n",
       "      <td>Tart, not sweet...very refreshing and delicious!</td>\n",
       "      <td>Yum!!</td>\n",
       "    </tr>\n",
       "    <tr>\n",
       "      <th>2</th>\n",
       "      <td>1000 Stories</td>\n",
       "      <td>1000 Stories174 Zinfandel - 750ml Bottle</td>\n",
       "      <td>5.0</td>\n",
       "      <td>I was given this wine so it was a delightful s...</td>\n",
       "      <td>A New Favorite!</td>\n",
       "    </tr>\n",
       "    <tr>\n",
       "      <th>3</th>\n",
       "      <td>1000 Stories</td>\n",
       "      <td>1000 Stories174 Zinfandel - 750ml Bottle</td>\n",
       "      <td>5.0</td>\n",
       "      <td>This is a phenomenal wine and my new favorite ...</td>\n",
       "      <td>Bold, Flavorful, Aromatic, Delicious</td>\n",
       "    </tr>\n",
       "    <tr>\n",
       "      <th>4</th>\n",
       "      <td>Wine Cube153</td>\n",
       "      <td>Pink Moscato - 3l Bottle - Wine Cube153</td>\n",
       "      <td>5.0</td>\n",
       "      <td>4 750ml bottles for the price of two With way ...</td>\n",
       "      <td>Yum! Plus, Environmentally Friendly!</td>\n",
       "    </tr>\n",
       "  </tbody>\n",
       "</table>\n",
       "</div>"
      ],
      "text/plain": [
       "             brand                                              name  \\\n",
       "0            Gallo        Ecco Domani174 Pinot Grigio - 750ml Bottle   \n",
       "1  Fresh Craft Co.  Fresh Craft174 Mango Citrus - 4pk / 250ml Bottle   \n",
       "2     1000 Stories          1000 Stories174 Zinfandel - 750ml Bottle   \n",
       "3     1000 Stories          1000 Stories174 Zinfandel - 750ml Bottle   \n",
       "4     Wine Cube153           Pink Moscato - 3l Bottle - Wine Cube153   \n",
       "\n",
       "   reviews.rating                                       reviews.text  \\\n",
       "0             5.0      This a fantastic white wine for any occasion!   \n",
       "1             5.0   Tart, not sweet...very refreshing and delicious!   \n",
       "2             5.0  I was given this wine so it was a delightful s...   \n",
       "3             5.0  This is a phenomenal wine and my new favorite ...   \n",
       "4             5.0  4 750ml bottles for the price of two With way ...   \n",
       "\n",
       "                          reviews.title  \n",
       "0                My Favorite White Wine  \n",
       "1                                 Yum!!  \n",
       "2                       A New Favorite!  \n",
       "3  Bold, Flavorful, Aromatic, Delicious  \n",
       "4  Yum! Plus, Environmentally Friendly!  "
      ]
     },
     "execution_count": 5,
     "metadata": {},
     "output_type": "execute_result"
    }
   ],
   "source": [
    "df.head()"
   ]
  },
  {
   "cell_type": "markdown",
   "id": "d7cb7c92-3ff1-49d4-9163-db544d0d9a61",
   "metadata": {},
   "source": [
    "## 텍스트 토큰화 및 불용어 제거"
   ]
  },
  {
   "cell_type": "code",
   "execution_count": 6,
   "id": "655948d1-fe02-4959-b772-feb596b76f1d",
   "metadata": {},
   "outputs": [
    {
     "name": "stdout",
     "output_type": "stream",
     "text": [
      "Requirement already satisfied: nltk in /opt/homebrew/Cellar/jupyterlab/4.1.2/libexec/lib/python3.12/site-packages (3.8.1)\n",
      "Requirement already satisfied: click in /opt/homebrew/Cellar/jupyterlab/4.1.2/libexec/lib/python3.12/site-packages (from nltk) (8.1.7)\n",
      "Requirement already satisfied: joblib in /opt/homebrew/Cellar/jupyterlab/4.1.2/libexec/lib/python3.12/site-packages (from nltk) (1.3.2)\n",
      "Requirement already satisfied: regex>=2021.8.3 in /opt/homebrew/Cellar/jupyterlab/4.1.2/libexec/lib/python3.12/site-packages (from nltk) (2024.4.28)\n",
      "Requirement already satisfied: tqdm in /opt/homebrew/Cellar/jupyterlab/4.1.2/libexec/lib/python3.12/site-packages (from nltk) (4.66.4)\n",
      "Note: you may need to restart the kernel to use updated packages.\n"
     ]
    },
    {
     "name": "stderr",
     "output_type": "stream",
     "text": [
      "[nltk_data] Downloading package vader_lexicon to\n",
      "[nltk_data]     /Users/ouiminlee/nltk_data...\n",
      "[nltk_data]   Package vader_lexicon is already up-to-date!\n"
     ]
    },
    {
     "data": {
      "text/plain": [
       "True"
      ]
     },
     "execution_count": 6,
     "metadata": {},
     "output_type": "execute_result"
    }
   ],
   "source": [
    "%pip install nltk\n",
    "import time\n",
    "import pandas as pd\n",
    "import nltk as nltk\n",
    "from nltk.corpus import stopwords\n",
    "from nltk.sentiment.vader import SentimentIntensityAnalyzer # nltk의 VADER 감정 분석기를 가져옮\n",
    "nltk.download('vader_lexicon') # VADER 감정 분석기에 필요한 어휘 자료를 다운로드"
   ]
  },
  {
   "cell_type": "code",
   "execution_count": 7,
   "id": "c963232b-5407-4337-a2a4-e72b39aa19d7",
   "metadata": {},
   "outputs": [],
   "source": [
    "# 데이터프레임 내의 칼럼 접속을 위하여 이름을 변경\n",
    "df.rename(columns={'reviews.title': 'reviews_title'}, inplace=True)\n",
    "df.rename(columns={'reviews.text': 'reviews_text'}, inplace=True)\n",
    "df.rename(columns={'reviews.rating': 'reviews_rating'}, inplace=True)"
   ]
  },
  {
   "cell_type": "markdown",
   "id": "4566afcb-1238-4dde-920b-366b4bc4b607",
   "metadata": {},
   "source": [
    "# Removing stop words\n",
    "- 부정적 및 긍정적 리뷰 열에 대해 감성 분석 기능을 실행하는 경우 시간이 오래 걸릴 수 있음\n",
    "- 문장의 감성을 바꾸지 않는 일반적인 영어 단어인 stop words를 제거할 수 있음\n",
    "- 이러한 단어를 제거하면 감성어 분석이 더 빠르게 실행되지만 정확도가 떨어지지는 않음\n",
    "    - 가장 긴 부정적 리뷰는 395단어였지만, 중지 단어를 제거한 후에는 195단어로 줄었습니다."
   ]
  },
  {
   "cell_type": "code",
   "execution_count": 8,
   "id": "f242b4c8-719d-4dd6-9afb-a32e7fdd8e0e",
   "metadata": {},
   "outputs": [
    {
     "name": "stderr",
     "output_type": "stream",
     "text": [
      "[nltk_data] Downloading package stopwords to\n",
      "[nltk_data]     /Users/ouiminlee/nltk_data...\n",
      "[nltk_data]   Package stopwords is already up-to-date!\n"
     ]
    }
   ],
   "source": [
    "nltk.download('stopwords')\n",
    "\n",
    "# Remove stop words - can be slow for a lot of text!\n",
    "# Ryan Han (ryanxjhan on Kaggle) has a great post measuring performance of different stop words removal approaches\n",
    "# https://www.kaggle.com/ryanxjhan/fast-stop-words-removal # using the approach that Ryan recommends\n",
    "start = time.time()\n",
    "cache = set(stopwords.words(\"english\"))\n",
    "def remove_stopwords(review):\n",
    "    text = \" \".join([word for word in review.split() if word not in cache])\n",
    "    return text\n",
    "\n",
    "# Remove the stop words from both columns\n",
    "df.reviews_title = df.reviews_title.apply(remove_stopwords)   \n",
    "df.reviews_text = df.reviews_text.apply(remove_stopwords)"
   ]
  },
  {
   "cell_type": "markdown",
   "id": "324acb6d-4be7-450b-8720-157acd573bd8",
   "metadata": {},
   "source": [
    "## 텍스트 정규화 (스테밍 또는 표제어 추출)"
   ]
  },
  {
   "cell_type": "code",
   "execution_count": 9,
   "id": "da25a0cb-25fd-4483-9f4f-6970bce54978",
   "metadata": {},
   "outputs": [],
   "source": [
    "#lemmatizer를 사용하여 스테밍과 표제어를 추출\n",
    "from nltk.tokenize import word_tokenize\n",
    "from nltk.stem import WordNetLemmatizer\n",
    "\n",
    "lemmatizer = WordNetLemmatizer()\n",
    "\n",
    "#lemmatize를 활용하여 단어를 기본형으로 변형함\n",
    "def preprocess(text):\n",
    "    tokens = word_tokenize(text)\n",
    "    tokens = [lemmatizer.lemmatize(word.lower()) for word in tokens if word.isalnum() and word not in cache]\n",
    "    return ' '.join(tokens)\n",
    "\n",
    "df['reviews_title'] = df['reviews_title'].apply(preprocess)\n",
    "df['reviews_text'] = df['reviews_text'].apply(preprocess)\n"
   ]
  },
  {
   "cell_type": "code",
   "execution_count": 10,
   "id": "fa962fa4-953e-4317-bc90-dbac72724d93",
   "metadata": {},
   "outputs": [
    {
     "data": {
      "text/html": [
       "<div>\n",
       "<style scoped>\n",
       "    .dataframe tbody tr th:only-of-type {\n",
       "        vertical-align: middle;\n",
       "    }\n",
       "\n",
       "    .dataframe tbody tr th {\n",
       "        vertical-align: top;\n",
       "    }\n",
       "\n",
       "    .dataframe thead th {\n",
       "        text-align: right;\n",
       "    }\n",
       "</style>\n",
       "<table border=\"1\" class=\"dataframe\">\n",
       "  <thead>\n",
       "    <tr style=\"text-align: right;\">\n",
       "      <th></th>\n",
       "      <th>brand</th>\n",
       "      <th>name</th>\n",
       "      <th>reviews_rating</th>\n",
       "      <th>reviews_text</th>\n",
       "      <th>reviews_title</th>\n",
       "    </tr>\n",
       "  </thead>\n",
       "  <tbody>\n",
       "    <tr>\n",
       "      <th>0</th>\n",
       "      <td>Gallo</td>\n",
       "      <td>Ecco Domani174 Pinot Grigio - 750ml Bottle</td>\n",
       "      <td>5.0</td>\n",
       "      <td>this fantastic white wine occasion</td>\n",
       "      <td>my favorite white wine</td>\n",
       "    </tr>\n",
       "    <tr>\n",
       "      <th>1</th>\n",
       "      <td>Fresh Craft Co.</td>\n",
       "      <td>Fresh Craft174 Mango Citrus - 4pk / 250ml Bottle</td>\n",
       "      <td>5.0</td>\n",
       "      <td>tart sweet refreshing delicious</td>\n",
       "      <td>yum</td>\n",
       "    </tr>\n",
       "    <tr>\n",
       "      <th>2</th>\n",
       "      <td>1000 Stories</td>\n",
       "      <td>1000 Stories174 Zinfandel - 750ml Bottle</td>\n",
       "      <td>5.0</td>\n",
       "      <td>i given wine delightful surprise find flavorfu...</td>\n",
       "      <td>a new favorite</td>\n",
       "    </tr>\n",
       "    <tr>\n",
       "      <th>3</th>\n",
       "      <td>1000 Stories</td>\n",
       "      <td>1000 Stories174 Zinfandel - 750ml Bottle</td>\n",
       "      <td>5.0</td>\n",
       "      <td>this phenomenal wine new favorite red</td>\n",
       "      <td>bold flavorful aromatic delicious</td>\n",
       "    </tr>\n",
       "    <tr>\n",
       "      <th>4</th>\n",
       "      <td>Wine Cube153</td>\n",
       "      <td>Pink Moscato - 3l Bottle - Wine Cube153</td>\n",
       "      <td>5.0</td>\n",
       "      <td>4 750ml bottle price two with way le packaging...</td>\n",
       "      <td>yum plus environmentally friendly</td>\n",
       "    </tr>\n",
       "    <tr>\n",
       "      <th>5</th>\n",
       "      <td>Beck's Na</td>\n",
       "      <td>Beck's174 Non Alcoholic Beer - 6pk / 12oz Bottles</td>\n",
       "      <td>5.0</td>\n",
       "      <td>i love beck na it taste like regular ale it sm...</td>\n",
       "      <td>great taste</td>\n",
       "    </tr>\n",
       "    <tr>\n",
       "      <th>6</th>\n",
       "      <td>Gallo</td>\n",
       "      <td>Apothic174 Red Blend - 750ml Bottle</td>\n",
       "      <td>3.0</td>\n",
       "      <td>this wine wonderful strong aroma bit bitter bi...</td>\n",
       "      <td>simply wonderful</td>\n",
       "    </tr>\n",
       "    <tr>\n",
       "      <th>7</th>\n",
       "      <td>Gallo</td>\n",
       "      <td>Apothic174 Red Blend - 750ml Bottle</td>\n",
       "      <td>2.0</td>\n",
       "      <td>i would give one star came clean bottle called...</td>\n",
       "      <td>a sweet red</td>\n",
       "    </tr>\n",
       "    <tr>\n",
       "      <th>9</th>\n",
       "      <td>Charles Charles</td>\n",
       "      <td>Charles Charles174 Red Blend - 750ml Bottle</td>\n",
       "      <td>5.0</td>\n",
       "      <td>this smooth red aroma cocoa coffee tobacco swe...</td>\n",
       "      <td>charles charles red blend</td>\n",
       "    </tr>\n",
       "    <tr>\n",
       "      <th>10</th>\n",
       "      <td>Fancy Pants</td>\n",
       "      <td>Fancy Pants174 Sauvignon Blanc - 750ml Bottle</td>\n",
       "      <td>5.0</td>\n",
       "      <td>based positive review i served fancy pant vari...</td>\n",
       "      <td>this wine made my party</td>\n",
       "    </tr>\n",
       "    <tr>\n",
       "      <th>11</th>\n",
       "      <td>Martini Rossi</td>\n",
       "      <td>Martini Rossi174 Asti Spumante Sparkling Wine ...</td>\n",
       "      <td>5.0</td>\n",
       "      <td>nice fruity sweet taking sparkling wine go gre...</td>\n",
       "      <td>nice sparkling wine compared to champagne</td>\n",
       "    </tr>\n",
       "    <tr>\n",
       "      <th>12</th>\n",
       "      <td>603 Brewery</td>\n",
       "      <td>603174 Winni Amber Ale - 6pk / 12oz Cans</td>\n",
       "      <td>5.0</td>\n",
       "      <td>a rich amber ale subtle noticeable hop charact...</td>\n",
       "      <td>great nh beer</td>\n",
       "    </tr>\n",
       "    <tr>\n",
       "      <th>13</th>\n",
       "      <td>603 Brewery</td>\n",
       "      <td>603174 White Peaks Ipa - 6pk / 12oz Cans</td>\n",
       "      <td>5.0</td>\n",
       "      <td>this light bodied ipa dry hopped cascade bold ...</td>\n",
       "      <td>ipa</td>\n",
       "    </tr>\n",
       "    <tr>\n",
       "      <th>14</th>\n",
       "      <td>603 Brewery</td>\n",
       "      <td>603174 White Peaks Ipa - 6pk / 12oz Cans</td>\n",
       "      <td>5.0</td>\n",
       "      <td>this light bodied ipa dry hopped cascade bold ...</td>\n",
       "      <td>ipa</td>\n",
       "    </tr>\n",
       "    <tr>\n",
       "      <th>15</th>\n",
       "      <td>Coppola</td>\n",
       "      <td>Sofia Coppola174 Riesling - 750ml Bottle</td>\n",
       "      <td>5.0</td>\n",
       "      <td>great perfect summer day get together girl</td>\n",
       "      <td>lovely try it</td>\n",
       "    </tr>\n",
       "    <tr>\n",
       "      <th>16</th>\n",
       "      <td>California Roots</td>\n",
       "      <td>California Roots Pinot Grigio White Wine - 750ml</td>\n",
       "      <td>2.0</td>\n",
       "      <td>i sure bad bottle intentionally made effervesc...</td>\n",
       "      <td>fizzy pinot grigio</td>\n",
       "    </tr>\n",
       "    <tr>\n",
       "      <th>17</th>\n",
       "      <td>Sancho Libre</td>\n",
       "      <td>Sancho Libre174 Peach - 4pk / 12oz Cans</td>\n",
       "      <td>5.0</td>\n",
       "      <td>obsessed new drink however sold every target i...</td>\n",
       "      <td>obsessed</td>\n",
       "    </tr>\n",
       "    <tr>\n",
       "      <th>18</th>\n",
       "      <td>Modern House Wines</td>\n",
       "      <td>Modern House174 With Love Red Blend - 750ml Bo...</td>\n",
       "      <td>5.0</td>\n",
       "      <td>this excellent red wine dry real sweet more re...</td>\n",
       "      <td>great wine</td>\n",
       "    </tr>\n",
       "    <tr>\n",
       "      <th>19</th>\n",
       "      <td>Estancia</td>\n",
       "      <td>Estancia174 Cabernet Sauvignon - 750ml Bottle</td>\n",
       "      <td>5.0</td>\n",
       "      <td>one best cabernet i quite sometime</td>\n",
       "      <td>excellent cab</td>\n",
       "    </tr>\n",
       "    <tr>\n",
       "      <th>20</th>\n",
       "      <td>VOGA Italia</td>\n",
       "      <td>Voga Italia174 Pinot Grigio - 750ml Bottle</td>\n",
       "      <td>5.0</td>\n",
       "      <td>this great buy price someone given bottle i li...</td>\n",
       "      <td>highly recommended</td>\n",
       "    </tr>\n",
       "  </tbody>\n",
       "</table>\n",
       "</div>"
      ],
      "text/plain": [
       "                 brand                                               name  \\\n",
       "0                Gallo         Ecco Domani174 Pinot Grigio - 750ml Bottle   \n",
       "1      Fresh Craft Co.   Fresh Craft174 Mango Citrus - 4pk / 250ml Bottle   \n",
       "2         1000 Stories           1000 Stories174 Zinfandel - 750ml Bottle   \n",
       "3         1000 Stories           1000 Stories174 Zinfandel - 750ml Bottle   \n",
       "4         Wine Cube153            Pink Moscato - 3l Bottle - Wine Cube153   \n",
       "5            Beck's Na  Beck's174 Non Alcoholic Beer - 6pk / 12oz Bottles   \n",
       "6                Gallo                Apothic174 Red Blend - 750ml Bottle   \n",
       "7                Gallo                Apothic174 Red Blend - 750ml Bottle   \n",
       "9      Charles Charles        Charles Charles174 Red Blend - 750ml Bottle   \n",
       "10         Fancy Pants      Fancy Pants174 Sauvignon Blanc - 750ml Bottle   \n",
       "11       Martini Rossi  Martini Rossi174 Asti Spumante Sparkling Wine ...   \n",
       "12         603 Brewery           603174 Winni Amber Ale - 6pk / 12oz Cans   \n",
       "13         603 Brewery           603174 White Peaks Ipa - 6pk / 12oz Cans   \n",
       "14         603 Brewery           603174 White Peaks Ipa - 6pk / 12oz Cans   \n",
       "15             Coppola           Sofia Coppola174 Riesling - 750ml Bottle   \n",
       "16    California Roots   California Roots Pinot Grigio White Wine - 750ml   \n",
       "17        Sancho Libre            Sancho Libre174 Peach - 4pk / 12oz Cans   \n",
       "18  Modern House Wines  Modern House174 With Love Red Blend - 750ml Bo...   \n",
       "19            Estancia      Estancia174 Cabernet Sauvignon - 750ml Bottle   \n",
       "20         VOGA Italia         Voga Italia174 Pinot Grigio - 750ml Bottle   \n",
       "\n",
       "    reviews_rating                                       reviews_text  \\\n",
       "0              5.0                 this fantastic white wine occasion   \n",
       "1              5.0                    tart sweet refreshing delicious   \n",
       "2              5.0  i given wine delightful surprise find flavorfu...   \n",
       "3              5.0              this phenomenal wine new favorite red   \n",
       "4              5.0  4 750ml bottle price two with way le packaging...   \n",
       "5              5.0  i love beck na it taste like regular ale it sm...   \n",
       "6              3.0  this wine wonderful strong aroma bit bitter bi...   \n",
       "7              2.0  i would give one star came clean bottle called...   \n",
       "9              5.0  this smooth red aroma cocoa coffee tobacco swe...   \n",
       "10             5.0  based positive review i served fancy pant vari...   \n",
       "11             5.0  nice fruity sweet taking sparkling wine go gre...   \n",
       "12             5.0  a rich amber ale subtle noticeable hop charact...   \n",
       "13             5.0  this light bodied ipa dry hopped cascade bold ...   \n",
       "14             5.0  this light bodied ipa dry hopped cascade bold ...   \n",
       "15             5.0         great perfect summer day get together girl   \n",
       "16             2.0  i sure bad bottle intentionally made effervesc...   \n",
       "17             5.0  obsessed new drink however sold every target i...   \n",
       "18             5.0  this excellent red wine dry real sweet more re...   \n",
       "19             5.0                 one best cabernet i quite sometime   \n",
       "20             5.0  this great buy price someone given bottle i li...   \n",
       "\n",
       "                                reviews_title  \n",
       "0                      my favorite white wine  \n",
       "1                                         yum  \n",
       "2                              a new favorite  \n",
       "3           bold flavorful aromatic delicious  \n",
       "4           yum plus environmentally friendly  \n",
       "5                                 great taste  \n",
       "6                            simply wonderful  \n",
       "7                                 a sweet red  \n",
       "9                   charles charles red blend  \n",
       "10                    this wine made my party  \n",
       "11  nice sparkling wine compared to champagne  \n",
       "12                              great nh beer  \n",
       "13                                        ipa  \n",
       "14                                        ipa  \n",
       "15                              lovely try it  \n",
       "16                         fizzy pinot grigio  \n",
       "17                                   obsessed  \n",
       "18                                 great wine  \n",
       "19                              excellent cab  \n",
       "20                         highly recommended  "
      ]
     },
     "execution_count": 10,
     "metadata": {},
     "output_type": "execute_result"
    }
   ],
   "source": [
    "df.head(20)"
   ]
  },
  {
   "cell_type": "markdown",
   "id": "9f9708ea-5ab1-4af2-ba09-eb445ac17568",
   "metadata": {},
   "source": [
    "## 모델 구현"
   ]
  },
  {
   "cell_type": "code",
   "execution_count": 11,
   "id": "15d13fb2-aa44-41bf-b419-38d44b69a178",
   "metadata": {},
   "outputs": [
    {
     "name": "stderr",
     "output_type": "stream",
     "text": [
      "[nltk_data] Downloading package vader_lexicon to\n",
      "[nltk_data]     /Users/ouiminlee/nltk_data...\n",
      "[nltk_data]   Package vader_lexicon is already up-to-date!\n"
     ]
    },
    {
     "data": {
      "text/plain": [
       "True"
      ]
     },
     "execution_count": 11,
     "metadata": {},
     "output_type": "execute_result"
    }
   ],
   "source": [
    "import pandas as pd\n",
    "from sklearn.model_selection import train_test_split, GridSearchCV\n",
    "from sklearn.metrics import accuracy_score, precision_score, recall_score, f1_score, roc_auc_score, confusion_matrix, roc_curve\n",
    "from sklearn.linear_model import LogisticRegression\n",
    "from sklearn.pipeline import Pipeline\n",
    "from sklearn.feature_extraction.text import TfidfVectorizer\n",
    "import matplotlib.pyplot as plt\n",
    "import seaborn as sns\n",
    "from nltk.sentiment.vader import SentimentIntensityAnalyzer\n",
    "import nltk\n",
    "\n",
    "# nltk에서 vader 다운로드\n",
    "nltk.download('vader_lexicon')"
   ]
  },
  {
   "cell_type": "markdown",
   "id": "c500d35b-2143-4eec-a2c4-16a421572f0e",
   "metadata": {},
   "source": [
    "## 모델 학습 및 튜닝"
   ]
  },
  {
   "cell_type": "code",
   "execution_count": 12,
   "id": "8175dea0-cf8d-462a-9cee-2ad4661da52a",
   "metadata": {},
   "outputs": [],
   "source": [
    "# 필요한 칼럼만 남겨둠\n",
    "df = df[['reviews_text', 'reviews_rating']].dropna()\n",
    "\n",
    "# 3점을 기준으로 긍정적인 평점과 부정적인 평점을 판별\n",
    "df['Sentiment'] = df['reviews_rating'].apply(lambda x: 'positive' if x >= 3.0 else 'negative')"
   ]
  },
  {
   "cell_type": "code",
   "execution_count": 13,
   "id": "1e62fee7-3c8d-4199-8944-0e404e6fe47a",
   "metadata": {},
   "outputs": [],
   "source": [
    "# VADER 감정분석기 초기화\n",
    "sid = SentimentIntensityAnalyzer()\n",
    "\n",
    "# 감성 점수 계산\n",
    "df['VADER_Score'] = df['reviews_text'].apply(lambda review: sid.polarity_scores(review)['compound'])\n",
    "\n",
    "# 감정 레이블 할당\n",
    "df['VADER_Sentiment'] = df['VADER_Score'].apply(lambda score: 'positive' if score >= 0 else 'negative')\n"
   ]
  },
  {
   "cell_type": "code",
   "execution_count": 14,
   "id": "6681fc00-6ae7-4139-9bec-b4b324a94711",
   "metadata": {},
   "outputs": [],
   "source": [
    "# 데이터셋 분할 \n",
    "X_train, X_test, y_train, y_test = train_test_split(df['reviews_text'], df['Sentiment'], test_size=0.2, random_state=42)\n",
    "\n",
    "# 레이블을 0과 1로 변환\n",
    "y_train = y_train.apply(lambda x: 1 if x == 'positive' else 0)\n",
    "y_test = y_test.apply(lambda x: 1 if x == 'positive' else 0)\n",
    "\n",
    "# 파이프라인 설정 (TF-IDF 벡터화와 로지스틱 회귀 포함)\n",
    "pipeline = Pipeline([\n",
    "    ('tfidf', TfidfVectorizer()),\n",
    "    ('logreg', LogisticRegression(max_iter=1000))\n",
    "])\n",
    "\n"
   ]
  },
  {
   "cell_type": "markdown",
   "id": "afd77198-3a99-4c0e-8a80-1b15a650d7b8",
   "metadata": {},
   "source": [
    "## 튜닝 (예: 그리드 서치 또는 랜덤 서치 사용)"
   ]
  },
  {
   "cell_type": "code",
   "execution_count": 15,
   "id": "382a15d3-c320-4f42-a80d-af8216fe3b19",
   "metadata": {},
   "outputs": [],
   "source": [
    "# 그리드 서치\n",
    "param_grid = {\n",
    "    'logreg__C': [0.01, 0.1, 1, 10, 100],\n",
    "    'logreg__penalty': ['l1', 'l2'],\n",
    "    'logreg__solver': ['liblinear']\n",
    "}"
   ]
  },
  {
   "cell_type": "markdown",
   "id": "dcd37fba-02a2-4132-8ee8-8b3e2f5acaa8",
   "metadata": {},
   "source": [
    "## 교차 검증과 같은 기술을 사용하여 견고성 보장)"
   ]
  },
  {
   "cell_type": "code",
   "execution_count": 16,
   "id": "b8a07165-0b41-452f-bbdc-e7e582b387ff",
   "metadata": {},
   "outputs": [
    {
     "name": "stdout",
     "output_type": "stream",
     "text": [
      "최적 파라미터: {'logreg__C': 10, 'logreg__penalty': 'l2', 'logreg__solver': 'liblinear'}\n"
     ]
    }
   ],
   "source": [
    "# 교차 검증을 수행\n",
    "grid_search = GridSearchCV(pipeline, param_grid, cv=5, scoring='f1')\n",
    "grid_search.fit(X_train, y_train)\n",
    "\n",
    "# 최적 파라미터\n",
    "print(f'최적 파라미터: {grid_search.best_params_}')"
   ]
  },
  {
   "cell_type": "markdown",
   "id": "d71c3de6-2fe0-4e43-b7da-26a27b4fbd79",
   "metadata": {},
   "source": [
    "## 모델 평가(정확도, 정밀도, 재현율, F1 점수 및 ROC-AUC와 같은 지표를 사용하여 모델 평가)"
   ]
  },
  {
   "cell_type": "code",
   "execution_count": 17,
   "id": "100f3bdd-ae4e-44aa-ac8b-832114ecec0b",
   "metadata": {},
   "outputs": [
    {
     "name": "stdout",
     "output_type": "stream",
     "text": [
      "Accuracy: 0.9680170575692963\n",
      "Precision: 0.9698924731182795\n",
      "Recall: 0.9977876106194691\n",
      "F1 Score: 0.9836423118865867\n",
      "ROC-AUC: 0.9407860489328475\n"
     ]
    }
   ],
   "source": [
    "# 최적 모델 예측\n",
    "best_model = grid_search.best_estimator_\n",
    "y_pred = best_model.predict(X_test)\n",
    "y_prob = best_model.predict_proba(X_test)[:, 1]\n",
    "\n",
    "# 평가\n",
    "accuracy = accuracy_score(y_test, y_pred)\n",
    "precision = precision_score(y_test, y_pred)\n",
    "recall = recall_score(y_test, y_pred)\n",
    "f1 = f1_score(y_test, y_pred)\n",
    "roc_auc = roc_auc_score(y_test, y_prob)\n",
    "\n",
    "print(f'Accuracy: {accuracy}')\n",
    "print(f'Precision: {precision}')\n",
    "print(f'Recall: {recall}')\n",
    "print(f'F1 Score: {f1}')\n",
    "print(f'ROC-AUC: {roc_auc}')"
   ]
  },
  {
   "cell_type": "markdown",
   "id": "67626cad-a619-4ac7-82ae-44ff7962c04f",
   "metadata": {},
   "source": [
    "## 오버피팅과 언더피팅을 논의하고 이를 해결하는 방법 학습"
   ]
  },
  {
   "cell_type": "code",
   "execution_count": 18,
   "id": "350a4d7d-0ff8-4ae7-924b-7764015f9793",
   "metadata": {},
   "outputs": [
    {
     "name": "stdout",
     "output_type": "stream",
     "text": [
      "훈련 정확도: 0.9989316239316239\n",
      "모델이 적절히 학습되었습니다.\n"
     ]
    }
   ],
   "source": [
    "# 오버피팅과 언더피팅 논의\n",
    "train_predictions = best_model.predict(X_train)\n",
    "train_accuracy = accuracy_score(y_train, train_predictions)\n",
    "print(f'훈련 정확도: {train_accuracy}')\n",
    "\n",
    "if train_accuracy > accuracy + 0.1:\n",
    "    print(\"오버피팅\")\n",
    "elif train_accuracy < accuracy - 0.1:\n",
    "    print(\"언더피팅\")\n",
    "else:\n",
    "    print(\"모델이 적절히 학습되었습니다.\")\n"
   ]
  },
  {
   "cell_type": "markdown",
   "id": "a237764c-33d7-4d97-806f-e8257f9eb880",
   "metadata": {},
   "source": [
    "## 시각화 및 보고(Matplotlib 또는 Seaborn과 같은 라이브러리를 사용하여 결과 시각화)"
   ]
  },
  {
   "cell_type": "markdown",
   "id": "4fac4632-6ca2-48df-b60a-dc22963b9e2f",
   "metadata": {},
   "source": [
    "### 혼동 행렬 및 ROC 곡선 생성"
   ]
  },
  {
   "cell_type": "code",
   "execution_count": 19,
   "id": "572c8a17-8029-4a50-87f5-9a85a892a8f7",
   "metadata": {},
   "outputs": [
    {
     "data": {
      "image/png": "[encoded data removed]",
      "text/plain": [
       "<Figure size 640x480 with 2 Axes>"
      ]
     },
     "metadata": {},
     "output_type": "display_data"
    },
    {
     "data": {
      "image/png": "[encoded data removed]",
      "text/plain": [
       "<Figure size 640x480 with 1 Axes>"
      ]
     },
     "metadata": {},
     "output_type": "display_data"
    }
   ],
   "source": [
    "# 혼동 행렬 시각화\n",
    "conf_matrix = confusion_matrix(y_test, y_pred)\n",
    "sns.heatmap(conf_matrix, annot=True, fmt='d', cmap='Blues')\n",
    "plt.xlabel('Predicted')\n",
    "plt.ylabel('Actual')\n",
    "plt.title('Confusion Matrix')\n",
    "plt.show()\n",
    "\n",
    "# ROC 곡선 시각화\n",
    "fpr, tpr, _ = roc_curve(y_test, y_prob)\n",
    "plt.plot(fpr, tpr, marker='.')\n",
    "plt.xlabel('False Positive Rate')\n",
    "plt.ylabel('True Positive Rate')\n",
    "plt.title('ROC Curve')\n",
    "plt.show()\n"
   ]
  },
  {
   "cell_type": "code",
   "execution_count": null,
   "id": "ef4a5910-8d22-4ec1-8ba2-d4f344c059f0",
   "metadata": {},
   "outputs": [],
   "source": []
  }
 ],
 "metadata": {
  "kernelspec": {
   "display_name": "Python 3 (ipykernel)",
   "language": "python",
   "name": "python3"
  },
  "language_info": {
   "codemirror_mode": {
    "name": "ipython",
    "version": 3
   },
   "file_extension": ".py",
   "mimetype": "text/x-python",
   "name": "python",
   "nbconvert_exporter": "python",
   "pygments_lexer": "ipython3",
   "version": "3.12.2"
  }
 },
 "nbformat": 4,
 "nbformat_minor": 5
}
